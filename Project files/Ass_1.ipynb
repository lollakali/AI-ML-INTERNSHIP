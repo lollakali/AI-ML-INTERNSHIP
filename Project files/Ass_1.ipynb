{
  "nbformat": 4,
  "nbformat_minor": 0,
  "metadata": {
    "colab": {
      "provenance": []
    },
    "kernelspec": {
      "name": "python3",
      "display_name": "Python 3"
    },
    "language_info": {
      "name": "python"
    }
  },
  "cells": [
    {
      "cell_type": "code",
      "execution_count": null,
      "metadata": {
        "colab": {
          "base_uri": "https://localhost:8080/"
        },
        "id": "IR6T62YvkpBI",
        "outputId": "104275e8-7a4b-4740-abd7-5a8a5114d381"
      },
      "outputs": [
        {
          "output_type": "execute_result",
          "data": {
            "text/plain": [
              "[1, 2, 3, 4, 5, 2, 4, 6, 8, 10]"
            ]
          },
          "metadata": {},
          "execution_count": 1
        }
      ],
      "source": [
        "# task 1:-\n",
        "\n",
        "x=[1,2,3,4,5]\n",
        "y=[2,4,6,8,10]\n",
        "\n",
        "x+y"
      ]
    },
    {
      "cell_type": "code",
      "source": [
        "# task 2:-\n",
        "\n",
        "num =int(input(\"enter your number :\"))\n",
        "if(num%2) == 0:\n",
        "  print(\"Given number is even\".format(num))\n",
        "else:\n",
        "  print(\"Given number is odd\".format(num))"
      ],
      "metadata": {
        "id": "Zp5dWhahmVjl"
      },
      "execution_count": null,
      "outputs": []
    },
    {
      "cell_type": "code",
      "source": [
        "# task 3 :-\n",
        "\n",
        "d1 = {'S.No':[1,2,3],'NAME':['naveen','naresh','kali',],'ROLL_NO':[88,67,59]}\n",
        "d1"
      ],
      "metadata": {
        "colab": {
          "base_uri": "https://localhost:8080/"
        },
        "id": "Vqn3ZWRVo1EP",
        "outputId": "787aa7b3-bea7-486c-bd15-c15b9133670c"
      },
      "execution_count": null,
      "outputs": [
        {
          "output_type": "execute_result",
          "data": {
            "text/plain": [
              "{'S.No': [1, 2, 3],\n",
              " 'NAME': ['naveen', 'naresh', 'kali'],\n",
              " 'ROLL_NO': [88, 67, 59]}"
            ]
          },
          "metadata": {},
          "execution_count": 9
        }
      ]
    },
    {
      "cell_type": "code",
      "source": [
        "# TASK 4 :-\n",
        "\n",
        "num=int(input(\"Enter a number: \"))\n",
        "\n",
        "def Evenorodd(num):\n",
        "\n",
        "    if(num%2==0):\n",
        "        print(\"Given no is an Even\")\n",
        "    else:\n",
        "        print(\"Given no is an Odd\")\n",
        "\n",
        "Evenorodd(num);"
      ],
      "metadata": {
        "colab": {
          "base_uri": "https://localhost:8080/"
        },
        "id": "CuGWgAk9pT6b",
        "outputId": "e04a8ab6-ec42-4ea8-da08-4a709546aae4"
      },
      "execution_count": null,
      "outputs": [
        {
          "output_type": "stream",
          "name": "stdout",
          "text": [
            "Enter a number: 5\n",
            "Given no is an Odd\n"
          ]
        }
      ]
    },
    {
      "cell_type": "code",
      "source": [
        "# TASK 5 :-\n",
        "\n",
        "def sum(n):\n",
        "    result=0\n",
        "    for i in n:\n",
        "        result = result+i\n",
        "    return result\n",
        "\n",
        "n = [1, 2, 3, 8, 9, 10]\n",
        "print(n)\n",
        "print(\"Sum of no: \",sum(n))"
      ],
      "metadata": {
        "colab": {
          "base_uri": "https://localhost:8080/"
        },
        "id": "kCDaC1n6prcU",
        "outputId": "910c005e-de36-4f75-a23e-68d7cbae6ab0"
      },
      "execution_count": null,
      "outputs": [
        {
          "output_type": "stream",
          "name": "stdout",
          "text": [
            "[1, 2, 3, 8, 9, 10]\n",
            "Sum of no:  33\n"
          ]
        }
      ]
    }
  ]
}